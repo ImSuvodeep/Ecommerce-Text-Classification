{
  "cells": [
    {
      "cell_type": "code",
      "execution_count": null,
      "id": "4135c9b0",
      "metadata": {
        "id": "4135c9b0"
      },
      "outputs": [],
      "source": [
        "import pandas as pd\n",
        "from sklearn.model_selection import train_test_split\n",
        "from sklearn.feature_extraction.text import TfidfVectorizer\n",
        "from sklearn.neighbors import KNeighborsClassifier\n",
        "from sklearn.naive_bayes import MultinomialNB"
      ]
    },
    {
      "cell_type": "code",
      "execution_count": null,
      "id": "37d43809",
      "metadata": {
        "id": "37d43809"
      },
      "outputs": [],
      "source": [
        "df = pd.read_csv(\"Ecommerce_data.csv\")"
      ]
    },
    {
      "cell_type": "code",
      "execution_count": null,
      "id": "c2c94478",
      "metadata": {
        "id": "c2c94478",
        "outputId": "b7eaaa12-2c19-4804-9129-b7cfd6f2e8ca"
      },
      "outputs": [
        {
          "data": {
            "text/html": [
              "<div>\n",
              "<style scoped>\n",
              "    .dataframe tbody tr th:only-of-type {\n",
              "        vertical-align: middle;\n",
              "    }\n",
              "\n",
              "    .dataframe tbody tr th {\n",
              "        vertical-align: top;\n",
              "    }\n",
              "\n",
              "    .dataframe thead th {\n",
              "        text-align: right;\n",
              "    }\n",
              "</style>\n",
              "<table border=\"1\" class=\"dataframe\">\n",
              "  <thead>\n",
              "    <tr style=\"text-align: right;\">\n",
              "      <th></th>\n",
              "      <th>Text</th>\n",
              "      <th>label</th>\n",
              "    </tr>\n",
              "  </thead>\n",
              "  <tbody>\n",
              "    <tr>\n",
              "      <th>0</th>\n",
              "      <td>Urban Ladder Eisner Low Back Study-Office Comp...</td>\n",
              "      <td>Household</td>\n",
              "    </tr>\n",
              "    <tr>\n",
              "      <th>1</th>\n",
              "      <td>Contrast living Wooden Decorative Box,Painted ...</td>\n",
              "      <td>Household</td>\n",
              "    </tr>\n",
              "    <tr>\n",
              "      <th>2</th>\n",
              "      <td>IO Crest SY-PCI40010 PCI RAID Host Controller ...</td>\n",
              "      <td>Electronics</td>\n",
              "    </tr>\n",
              "    <tr>\n",
              "      <th>3</th>\n",
              "      <td>ISAKAA Baby Socks from Just Born to 8 Years- P...</td>\n",
              "      <td>Clothing &amp; Accessories</td>\n",
              "    </tr>\n",
              "    <tr>\n",
              "      <th>4</th>\n",
              "      <td>Indira Designer Women's Art Mysore Silk Saree ...</td>\n",
              "      <td>Clothing &amp; Accessories</td>\n",
              "    </tr>\n",
              "  </tbody>\n",
              "</table>\n",
              "</div>"
            ],
            "text/plain": [
              "                                                Text                   label\n",
              "0  Urban Ladder Eisner Low Back Study-Office Comp...               Household\n",
              "1  Contrast living Wooden Decorative Box,Painted ...               Household\n",
              "2  IO Crest SY-PCI40010 PCI RAID Host Controller ...             Electronics\n",
              "3  ISAKAA Baby Socks from Just Born to 8 Years- P...  Clothing & Accessories\n",
              "4  Indira Designer Women's Art Mysore Silk Saree ...  Clothing & Accessories"
            ]
          },
          "execution_count": 3,
          "metadata": {},
          "output_type": "execute_result"
        }
      ],
      "source": [
        "df.head()"
      ]
    },
    {
      "cell_type": "code",
      "execution_count": null,
      "id": "7df81253",
      "metadata": {
        "id": "7df81253",
        "outputId": "1be18a1e-0506-4e64-aa65-9282677f5f86"
      },
      "outputs": [
        {
          "data": {
            "text/plain": [
              "Household                 6000\n",
              "Electronics               6000\n",
              "Clothing & Accessories    6000\n",
              "Books                     6000\n",
              "Name: label, dtype: int64"
            ]
          },
          "execution_count": 4,
          "metadata": {},
          "output_type": "execute_result"
        }
      ],
      "source": [
        "df.label.value_counts()"
      ]
    },
    {
      "cell_type": "code",
      "execution_count": null,
      "id": "b8520ab2",
      "metadata": {
        "id": "b8520ab2"
      },
      "outputs": [],
      "source": [
        "df['label_no'] = df.label.map({\n",
        "    'Household':0,\n",
        "    'Electronics':1,\n",
        "    'Clothing & Accessories':2,\n",
        "    'Books':3\n",
        "})"
      ]
    },
    {
      "cell_type": "code",
      "execution_count": null,
      "id": "b7dfd50c",
      "metadata": {
        "id": "b7dfd50c",
        "outputId": "2c03af73-9784-478e-ebac-27e94275e763"
      },
      "outputs": [
        {
          "data": {
            "text/html": [
              "<div>\n",
              "<style scoped>\n",
              "    .dataframe tbody tr th:only-of-type {\n",
              "        vertical-align: middle;\n",
              "    }\n",
              "\n",
              "    .dataframe tbody tr th {\n",
              "        vertical-align: top;\n",
              "    }\n",
              "\n",
              "    .dataframe thead th {\n",
              "        text-align: right;\n",
              "    }\n",
              "</style>\n",
              "<table border=\"1\" class=\"dataframe\">\n",
              "  <thead>\n",
              "    <tr style=\"text-align: right;\">\n",
              "      <th></th>\n",
              "      <th>Text</th>\n",
              "      <th>label</th>\n",
              "      <th>label_no</th>\n",
              "    </tr>\n",
              "  </thead>\n",
              "  <tbody>\n",
              "    <tr>\n",
              "      <th>0</th>\n",
              "      <td>Urban Ladder Eisner Low Back Study-Office Comp...</td>\n",
              "      <td>Household</td>\n",
              "      <td>0</td>\n",
              "    </tr>\n",
              "    <tr>\n",
              "      <th>1</th>\n",
              "      <td>Contrast living Wooden Decorative Box,Painted ...</td>\n",
              "      <td>Household</td>\n",
              "      <td>0</td>\n",
              "    </tr>\n",
              "    <tr>\n",
              "      <th>2</th>\n",
              "      <td>IO Crest SY-PCI40010 PCI RAID Host Controller ...</td>\n",
              "      <td>Electronics</td>\n",
              "      <td>1</td>\n",
              "    </tr>\n",
              "    <tr>\n",
              "      <th>3</th>\n",
              "      <td>ISAKAA Baby Socks from Just Born to 8 Years- P...</td>\n",
              "      <td>Clothing &amp; Accessories</td>\n",
              "      <td>2</td>\n",
              "    </tr>\n",
              "    <tr>\n",
              "      <th>4</th>\n",
              "      <td>Indira Designer Women's Art Mysore Silk Saree ...</td>\n",
              "      <td>Clothing &amp; Accessories</td>\n",
              "      <td>2</td>\n",
              "    </tr>\n",
              "  </tbody>\n",
              "</table>\n",
              "</div>"
            ],
            "text/plain": [
              "                                                Text                   label  \\\n",
              "0  Urban Ladder Eisner Low Back Study-Office Comp...               Household   \n",
              "1  Contrast living Wooden Decorative Box,Painted ...               Household   \n",
              "2  IO Crest SY-PCI40010 PCI RAID Host Controller ...             Electronics   \n",
              "3  ISAKAA Baby Socks from Just Born to 8 Years- P...  Clothing & Accessories   \n",
              "4  Indira Designer Women's Art Mysore Silk Saree ...  Clothing & Accessories   \n",
              "\n",
              "   label_no  \n",
              "0         0  \n",
              "1         0  \n",
              "2         1  \n",
              "3         2  \n",
              "4         2  "
            ]
          },
          "execution_count": 6,
          "metadata": {},
          "output_type": "execute_result"
        }
      ],
      "source": [
        "df.head()"
      ]
    },
    {
      "cell_type": "code",
      "execution_count": null,
      "id": "b8b18a29",
      "metadata": {
        "id": "b8b18a29"
      },
      "outputs": [],
      "source": [
        "v = TfidfVectorizer()"
      ]
    },
    {
      "cell_type": "code",
      "execution_count": null,
      "id": "c14eb411",
      "metadata": {
        "scrolled": true,
        "id": "c14eb411",
        "outputId": "88a97765-45a1-4ea3-dff8-8381ad27be15"
      },
      "outputs": [
        {
          "data": {
            "text/plain": [
              "0    Urban Ladder Eisner Low Back Study-Office Comp...\n",
              "1    Contrast living Wooden Decorative Box,Painted ...\n",
              "2    IO Crest SY-PCI40010 PCI RAID Host Controller ...\n",
              "3    ISAKAA Baby Socks from Just Born to 8 Years- P...\n",
              "Name: Text, dtype: object"
            ]
          },
          "execution_count": 8,
          "metadata": {},
          "output_type": "execute_result"
        }
      ],
      "source": [
        "df.Text[:4]"
      ]
    },
    {
      "cell_type": "code",
      "execution_count": null,
      "id": "f274bd2a",
      "metadata": {
        "id": "f274bd2a",
        "outputId": "13791996-8091-4491-d773-0d73a9d3fc71"
      },
      "outputs": [
        {
          "data": {
            "text/plain": [
              "(0                 Household\n",
              " 1                 Household\n",
              " 2               Electronics\n",
              " 3    Clothing & Accessories\n",
              " Name: label, dtype: object,\n",
              " 0    0\n",
              " 1    0\n",
              " 2    1\n",
              " 3    2\n",
              " Name: label_no, dtype: int64)"
            ]
          },
          "execution_count": 9,
          "metadata": {},
          "output_type": "execute_result"
        }
      ],
      "source": [
        "df.label[:4] , df.label_no[:4]"
      ]
    },
    {
      "cell_type": "code",
      "execution_count": null,
      "id": "993006e4",
      "metadata": {
        "id": "993006e4"
      },
      "outputs": [],
      "source": [
        "x_train,x_test,y_train,y_test = train_test_split(df.Text,df.label_no,\n",
        "                                                test_size = 0.2, random_state = 42,\n",
        "                                                stratify= df.label_no)"
      ]
    },
    {
      "cell_type": "code",
      "execution_count": null,
      "id": "ea6cafaa",
      "metadata": {
        "id": "ea6cafaa"
      },
      "outputs": [],
      "source": [
        "tfv = TfidfVectorizer()"
      ]
    },
    {
      "cell_type": "code",
      "execution_count": null,
      "id": "3aa3c401",
      "metadata": {
        "id": "3aa3c401"
      },
      "outputs": [],
      "source": [
        "x_train_tfv = tfv.fit_transform(x_train)"
      ]
    },
    {
      "cell_type": "code",
      "execution_count": null,
      "id": "fb1a5f59",
      "metadata": {
        "id": "fb1a5f59",
        "outputId": "f345f99d-6568-49b4-a60e-3bd050678f5e"
      },
      "outputs": [
        {
          "data": {
            "text/plain": [
              "scipy.sparse._csr.csr_matrix"
            ]
          },
          "execution_count": 13,
          "metadata": {},
          "output_type": "execute_result"
        }
      ],
      "source": [
        "type(x_train_tfv)"
      ]
    },
    {
      "cell_type": "code",
      "execution_count": null,
      "id": "09549f0d",
      "metadata": {
        "id": "09549f0d"
      },
      "outputs": [],
      "source": [
        "knn_model = KNeighborsClassifier(n_neighbors=5)"
      ]
    },
    {
      "cell_type": "code",
      "execution_count": null,
      "id": "f32b15c0",
      "metadata": {
        "id": "f32b15c0",
        "outputId": "525793af-568a-4b5f-b9c7-5a23d64580f3"
      },
      "outputs": [
        {
          "data": {
            "text/html": [
              "<style>#sk-container-id-1 {color: black;background-color: white;}#sk-container-id-1 pre{padding: 0;}#sk-container-id-1 div.sk-toggleable {background-color: white;}#sk-container-id-1 label.sk-toggleable__label {cursor: pointer;display: block;width: 100%;margin-bottom: 0;padding: 0.3em;box-sizing: border-box;text-align: center;}#sk-container-id-1 label.sk-toggleable__label-arrow:before {content: \"▸\";float: left;margin-right: 0.25em;color: #696969;}#sk-container-id-1 label.sk-toggleable__label-arrow:hover:before {color: black;}#sk-container-id-1 div.sk-estimator:hover label.sk-toggleable__label-arrow:before {color: black;}#sk-container-id-1 div.sk-toggleable__content {max-height: 0;max-width: 0;overflow: hidden;text-align: left;background-color: #f0f8ff;}#sk-container-id-1 div.sk-toggleable__content pre {margin: 0.2em;color: black;border-radius: 0.25em;background-color: #f0f8ff;}#sk-container-id-1 input.sk-toggleable__control:checked~div.sk-toggleable__content {max-height: 200px;max-width: 100%;overflow: auto;}#sk-container-id-1 input.sk-toggleable__control:checked~label.sk-toggleable__label-arrow:before {content: \"▾\";}#sk-container-id-1 div.sk-estimator input.sk-toggleable__control:checked~label.sk-toggleable__label {background-color: #d4ebff;}#sk-container-id-1 div.sk-label input.sk-toggleable__control:checked~label.sk-toggleable__label {background-color: #d4ebff;}#sk-container-id-1 input.sk-hidden--visually {border: 0;clip: rect(1px 1px 1px 1px);clip: rect(1px, 1px, 1px, 1px);height: 1px;margin: -1px;overflow: hidden;padding: 0;position: absolute;width: 1px;}#sk-container-id-1 div.sk-estimator {font-family: monospace;background-color: #f0f8ff;border: 1px dotted black;border-radius: 0.25em;box-sizing: border-box;margin-bottom: 0.5em;}#sk-container-id-1 div.sk-estimator:hover {background-color: #d4ebff;}#sk-container-id-1 div.sk-parallel-item::after {content: \"\";width: 100%;border-bottom: 1px solid gray;flex-grow: 1;}#sk-container-id-1 div.sk-label:hover label.sk-toggleable__label {background-color: #d4ebff;}#sk-container-id-1 div.sk-serial::before {content: \"\";position: absolute;border-left: 1px solid gray;box-sizing: border-box;top: 0;bottom: 0;left: 50%;z-index: 0;}#sk-container-id-1 div.sk-serial {display: flex;flex-direction: column;align-items: center;background-color: white;padding-right: 0.2em;padding-left: 0.2em;position: relative;}#sk-container-id-1 div.sk-item {position: relative;z-index: 1;}#sk-container-id-1 div.sk-parallel {display: flex;align-items: stretch;justify-content: center;background-color: white;position: relative;}#sk-container-id-1 div.sk-item::before, #sk-container-id-1 div.sk-parallel-item::before {content: \"\";position: absolute;border-left: 1px solid gray;box-sizing: border-box;top: 0;bottom: 0;left: 50%;z-index: -1;}#sk-container-id-1 div.sk-parallel-item {display: flex;flex-direction: column;z-index: 1;position: relative;background-color: white;}#sk-container-id-1 div.sk-parallel-item:first-child::after {align-self: flex-end;width: 50%;}#sk-container-id-1 div.sk-parallel-item:last-child::after {align-self: flex-start;width: 50%;}#sk-container-id-1 div.sk-parallel-item:only-child::after {width: 0;}#sk-container-id-1 div.sk-dashed-wrapped {border: 1px dashed gray;margin: 0 0.4em 0.5em 0.4em;box-sizing: border-box;padding-bottom: 0.4em;background-color: white;}#sk-container-id-1 div.sk-label label {font-family: monospace;font-weight: bold;display: inline-block;line-height: 1.2em;}#sk-container-id-1 div.sk-label-container {text-align: center;}#sk-container-id-1 div.sk-container {/* jupyter's `normalize.less` sets `[hidden] { display: none; }` but bootstrap.min.css set `[hidden] { display: none !important; }` so we also need the `!important` here to be able to override the default hidden behavior on the sphinx rendered scikit-learn.org. See: https://github.com/scikit-learn/scikit-learn/issues/21755 */display: inline-block !important;position: relative;}#sk-container-id-1 div.sk-text-repr-fallback {display: none;}</style><div id=\"sk-container-id-1\" class=\"sk-top-container\"><div class=\"sk-text-repr-fallback\"><pre>KNeighborsClassifier()</pre><b>In a Jupyter environment, please rerun this cell to show the HTML representation or trust the notebook. <br />On GitHub, the HTML representation is unable to render, please try loading this page with nbviewer.org.</b></div><div class=\"sk-container\" hidden><div class=\"sk-item\"><div class=\"sk-estimator sk-toggleable\"><input class=\"sk-toggleable__control sk-hidden--visually\" id=\"sk-estimator-id-1\" type=\"checkbox\" checked><label for=\"sk-estimator-id-1\" class=\"sk-toggleable__label sk-toggleable__label-arrow\">KNeighborsClassifier</label><div class=\"sk-toggleable__content\"><pre>KNeighborsClassifier()</pre></div></div></div></div></div>"
            ],
            "text/plain": [
              "KNeighborsClassifier()"
            ]
          },
          "execution_count": 15,
          "metadata": {},
          "output_type": "execute_result"
        }
      ],
      "source": [
        "knn_model.fit(x_train_tfv,y_train)"
      ]
    },
    {
      "cell_type": "code",
      "execution_count": null,
      "id": "e2b1f1bc",
      "metadata": {
        "scrolled": true,
        "id": "e2b1f1bc",
        "outputId": "e8a31d33-56b1-4ae5-ea04-fea7de9133a0"
      },
      "outputs": [
        {
          "data": {
            "text/plain": [
              "10572    Deco Home Cotton Modern Arabesque Bedding, Kin...\n",
              "23834    Sky Tech® High Speed External Memory Card Read...\n",
              "13988    Allen Solly Men's Cotton Handkerchief Navy/Sky...\n",
              "10777    Samriddhi Artificial Leaves Garlands/Creepers ...\n",
              "Name: Text, dtype: object"
            ]
          },
          "execution_count": 16,
          "metadata": {},
          "output_type": "execute_result"
        }
      ],
      "source": [
        "x_test[:4]"
      ]
    },
    {
      "cell_type": "code",
      "execution_count": null,
      "id": "2f20a963",
      "metadata": {
        "id": "2f20a963"
      },
      "outputs": [],
      "source": [
        "x_test_tfv = v.fit_transform(x_test)\n"
      ]
    },
    {
      "cell_type": "code",
      "execution_count": null,
      "id": "7d5cbf72",
      "metadata": {
        "id": "7d5cbf72",
        "outputId": "b8ee98c2-68e2-4849-86f3-04b1423f386d"
      },
      "outputs": [
        {
          "data": {
            "text/plain": [
              "(4800, 27377)"
            ]
          },
          "execution_count": 18,
          "metadata": {},
          "output_type": "execute_result"
        }
      ],
      "source": [
        "x_test_tfv.shape"
      ]
    },
    {
      "cell_type": "code",
      "execution_count": null,
      "id": "819364df",
      "metadata": {
        "id": "819364df",
        "outputId": "748e091e-7abe-4305-de38-29c1578b1806"
      },
      "outputs": [
        {
          "data": {
            "text/plain": [
              "(19200, 47298)"
            ]
          },
          "execution_count": 19,
          "metadata": {},
          "output_type": "execute_result"
        }
      ],
      "source": [
        "x_train_tfv.shape"
      ]
    },
    {
      "cell_type": "code",
      "execution_count": null,
      "id": "9c8ef1cc",
      "metadata": {
        "id": "9c8ef1cc"
      },
      "outputs": [],
      "source": [
        "md_model = MultinomialNB()"
      ]
    },
    {
      "cell_type": "code",
      "execution_count": null,
      "id": "425fb492",
      "metadata": {
        "id": "425fb492",
        "outputId": "d7667088-b0a5-49d8-e577-2cd0949f5553"
      },
      "outputs": [
        {
          "data": {
            "text/html": [
              "<style>#sk-container-id-2 {color: black;background-color: white;}#sk-container-id-2 pre{padding: 0;}#sk-container-id-2 div.sk-toggleable {background-color: white;}#sk-container-id-2 label.sk-toggleable__label {cursor: pointer;display: block;width: 100%;margin-bottom: 0;padding: 0.3em;box-sizing: border-box;text-align: center;}#sk-container-id-2 label.sk-toggleable__label-arrow:before {content: \"▸\";float: left;margin-right: 0.25em;color: #696969;}#sk-container-id-2 label.sk-toggleable__label-arrow:hover:before {color: black;}#sk-container-id-2 div.sk-estimator:hover label.sk-toggleable__label-arrow:before {color: black;}#sk-container-id-2 div.sk-toggleable__content {max-height: 0;max-width: 0;overflow: hidden;text-align: left;background-color: #f0f8ff;}#sk-container-id-2 div.sk-toggleable__content pre {margin: 0.2em;color: black;border-radius: 0.25em;background-color: #f0f8ff;}#sk-container-id-2 input.sk-toggleable__control:checked~div.sk-toggleable__content {max-height: 200px;max-width: 100%;overflow: auto;}#sk-container-id-2 input.sk-toggleable__control:checked~label.sk-toggleable__label-arrow:before {content: \"▾\";}#sk-container-id-2 div.sk-estimator input.sk-toggleable__control:checked~label.sk-toggleable__label {background-color: #d4ebff;}#sk-container-id-2 div.sk-label input.sk-toggleable__control:checked~label.sk-toggleable__label {background-color: #d4ebff;}#sk-container-id-2 input.sk-hidden--visually {border: 0;clip: rect(1px 1px 1px 1px);clip: rect(1px, 1px, 1px, 1px);height: 1px;margin: -1px;overflow: hidden;padding: 0;position: absolute;width: 1px;}#sk-container-id-2 div.sk-estimator {font-family: monospace;background-color: #f0f8ff;border: 1px dotted black;border-radius: 0.25em;box-sizing: border-box;margin-bottom: 0.5em;}#sk-container-id-2 div.sk-estimator:hover {background-color: #d4ebff;}#sk-container-id-2 div.sk-parallel-item::after {content: \"\";width: 100%;border-bottom: 1px solid gray;flex-grow: 1;}#sk-container-id-2 div.sk-label:hover label.sk-toggleable__label {background-color: #d4ebff;}#sk-container-id-2 div.sk-serial::before {content: \"\";position: absolute;border-left: 1px solid gray;box-sizing: border-box;top: 0;bottom: 0;left: 50%;z-index: 0;}#sk-container-id-2 div.sk-serial {display: flex;flex-direction: column;align-items: center;background-color: white;padding-right: 0.2em;padding-left: 0.2em;position: relative;}#sk-container-id-2 div.sk-item {position: relative;z-index: 1;}#sk-container-id-2 div.sk-parallel {display: flex;align-items: stretch;justify-content: center;background-color: white;position: relative;}#sk-container-id-2 div.sk-item::before, #sk-container-id-2 div.sk-parallel-item::before {content: \"\";position: absolute;border-left: 1px solid gray;box-sizing: border-box;top: 0;bottom: 0;left: 50%;z-index: -1;}#sk-container-id-2 div.sk-parallel-item {display: flex;flex-direction: column;z-index: 1;position: relative;background-color: white;}#sk-container-id-2 div.sk-parallel-item:first-child::after {align-self: flex-end;width: 50%;}#sk-container-id-2 div.sk-parallel-item:last-child::after {align-self: flex-start;width: 50%;}#sk-container-id-2 div.sk-parallel-item:only-child::after {width: 0;}#sk-container-id-2 div.sk-dashed-wrapped {border: 1px dashed gray;margin: 0 0.4em 0.5em 0.4em;box-sizing: border-box;padding-bottom: 0.4em;background-color: white;}#sk-container-id-2 div.sk-label label {font-family: monospace;font-weight: bold;display: inline-block;line-height: 1.2em;}#sk-container-id-2 div.sk-label-container {text-align: center;}#sk-container-id-2 div.sk-container {/* jupyter's `normalize.less` sets `[hidden] { display: none; }` but bootstrap.min.css set `[hidden] { display: none !important; }` so we also need the `!important` here to be able to override the default hidden behavior on the sphinx rendered scikit-learn.org. See: https://github.com/scikit-learn/scikit-learn/issues/21755 */display: inline-block !important;position: relative;}#sk-container-id-2 div.sk-text-repr-fallback {display: none;}</style><div id=\"sk-container-id-2\" class=\"sk-top-container\"><div class=\"sk-text-repr-fallback\"><pre>MultinomialNB()</pre><b>In a Jupyter environment, please rerun this cell to show the HTML representation or trust the notebook. <br />On GitHub, the HTML representation is unable to render, please try loading this page with nbviewer.org.</b></div><div class=\"sk-container\" hidden><div class=\"sk-item\"><div class=\"sk-estimator sk-toggleable\"><input class=\"sk-toggleable__control sk-hidden--visually\" id=\"sk-estimator-id-2\" type=\"checkbox\" checked><label for=\"sk-estimator-id-2\" class=\"sk-toggleable__label sk-toggleable__label-arrow\">MultinomialNB</label><div class=\"sk-toggleable__content\"><pre>MultinomialNB()</pre></div></div></div></div></div>"
            ],
            "text/plain": [
              "MultinomialNB()"
            ]
          },
          "execution_count": 21,
          "metadata": {},
          "output_type": "execute_result"
        }
      ],
      "source": [
        "md_model.fit(x_train_tfv,y_train)"
      ]
    },
    {
      "cell_type": "code",
      "execution_count": null,
      "id": "aa721d0e",
      "metadata": {
        "id": "aa721d0e"
      },
      "outputs": [],
      "source": [
        "from sklearn.pipeline import Pipeline\n",
        "from sklearn.metrics import classification_report"
      ]
    },
    {
      "cell_type": "code",
      "execution_count": null,
      "id": "f8730fba",
      "metadata": {
        "id": "f8730fba"
      },
      "outputs": [],
      "source": [
        "from sklearn.metrics import classification_report\n",
        "from sklearn.pipeline import Pipeline\n",
        "\n",
        "def train_and_evaluate_model(pipeline_name, x_train, x_test, y_train, y_test, vectorizer, model_name, show_classification_report=True):\n",
        "    model = Pipeline([\n",
        "        ('Vectorizer', vectorizer()),\n",
        "        ('model_name', model_name())\n",
        "    ])\n",
        "\n",
        "    model.fit(x_train, y_train)\n",
        "    model_prediction = None\n",
        "    if show_classification_report:\n",
        "        model_predictions = model.predict(x_test)\n",
        "        score = classification_report(y_test, model_predictions)\n",
        "        print(score)\n",
        "    else:\n",
        "        score = None\n",
        "\n",
        "    return model, score , model_predictions\n"
      ]
    },
    {
      "cell_type": "code",
      "execution_count": null,
      "id": "e9079bd8",
      "metadata": {
        "id": "e9079bd8"
      },
      "outputs": [],
      "source": [
        "knn = KNeighborsClassifier()"
      ]
    },
    {
      "cell_type": "code",
      "execution_count": null,
      "id": "42ae0dfd",
      "metadata": {
        "scrolled": false,
        "id": "42ae0dfd",
        "outputId": "9750632b-f76a-4f14-b626-95006e67a1a3"
      },
      "outputs": [
        {
          "name": "stdout",
          "output_type": "stream",
          "text": [
            "              precision    recall  f1-score   support\n",
            "\n",
            "           0       0.94      0.96      0.95      1200\n",
            "           1       0.97      0.96      0.96      1200\n",
            "           2       0.98      0.98      0.98      1200\n",
            "           3       0.98      0.96      0.97      1200\n",
            "\n",
            "    accuracy                           0.97      4800\n",
            "   macro avg       0.97      0.97      0.97      4800\n",
            "weighted avg       0.97      0.97      0.97      4800\n",
            "\n"
          ]
        }
      ],
      "source": [
        "knn_model , knn_score , knn_prediction = train_and_evaluate_model(knn,x_train,x_test,y_train,y_test,TfidfVectorizer,KNeighborsClassifier)"
      ]
    },
    {
      "cell_type": "code",
      "execution_count": null,
      "id": "766ccd5d",
      "metadata": {
        "id": "766ccd5d"
      },
      "outputs": [],
      "source": [
        "mnm = MultinomialNB()"
      ]
    },
    {
      "cell_type": "code",
      "execution_count": null,
      "id": "2da33262",
      "metadata": {
        "scrolled": true,
        "id": "2da33262",
        "outputId": "22d42325-bc29-4ddf-83a4-02eb95393700"
      },
      "outputs": [
        {
          "name": "stdout",
          "output_type": "stream",
          "text": [
            "              precision    recall  f1-score   support\n",
            "\n",
            "           0       0.93      0.97      0.95      1200\n",
            "           1       0.97      0.97      0.97      1200\n",
            "           2       0.98      0.98      0.98      1200\n",
            "           3       0.99      0.94      0.96      1200\n",
            "\n",
            "    accuracy                           0.96      4800\n",
            "   macro avg       0.97      0.96      0.96      4800\n",
            "weighted avg       0.97      0.96      0.96      4800\n",
            "\n"
          ]
        }
      ],
      "source": [
        "mnm_model,mnm_score, mnm_prediction = train_and_evaluate_model(mnm,x_train,x_test,y_train,y_test,TfidfVectorizer,MultinomialNB)"
      ]
    },
    {
      "cell_type": "code",
      "execution_count": null,
      "id": "7c9f186b",
      "metadata": {
        "id": "7c9f186b",
        "outputId": "30060b5d-a8e3-4fa0-c72b-f23b8f0a6799"
      },
      "outputs": [
        {
          "data": {
            "text/plain": [
              "(10572    Deco Home Cotton Modern Arabesque Bedding, Kin...\n",
              " 23834    Sky Tech® High Speed External Memory Card Read...\n",
              " 13988    Allen Solly Men's Cotton Handkerchief Navy/Sky...\n",
              " 10777    Samriddhi Artificial Leaves Garlands/Creepers ...\n",
              " 11896    Seagate 2TB Backup Plus Slim (Blue) USB 3.0 Ex...\n",
              " Name: Text, dtype: object,\n",
              " 10572    0\n",
              " 23834    1\n",
              " 13988    2\n",
              " 10777    0\n",
              " 11896    1\n",
              " Name: label_no, dtype: int64)"
            ]
          },
          "execution_count": 28,
          "metadata": {},
          "output_type": "execute_result"
        }
      ],
      "source": [
        "x_test[:5],y_test[:5]"
      ]
    },
    {
      "cell_type": "code",
      "execution_count": null,
      "id": "52e94d74",
      "metadata": {
        "id": "52e94d74",
        "outputId": "511c8cea-c5a5-4cfd-9e8d-294425ee96b1"
      },
      "outputs": [
        {
          "data": {
            "text/plain": [
              "array([0, 1, 2, 0, 1], dtype=int64)"
            ]
          },
          "execution_count": 29,
          "metadata": {},
          "output_type": "execute_result"
        }
      ],
      "source": [
        "knn_prediction[:5]"
      ]
    },
    {
      "cell_type": "code",
      "execution_count": null,
      "id": "84179209",
      "metadata": {
        "id": "84179209",
        "outputId": "62f11f6e-4c32-4310-a977-4f21a4684614"
      },
      "outputs": [
        {
          "data": {
            "text/plain": [
              "array([0, 1, 2, 0, 1], dtype=int64)"
            ]
          },
          "execution_count": 30,
          "metadata": {},
          "output_type": "execute_result"
        }
      ],
      "source": [
        "mnm_prediction[:5]"
      ]
    },
    {
      "cell_type": "raw",
      "id": "e777eb90",
      "metadata": {
        "id": "e777eb90"
      },
      "source": []
    }
  ],
  "metadata": {
    "kernelspec": {
      "display_name": "Python 3 (ipykernel)",
      "language": "python",
      "name": "python3"
    },
    "language_info": {
      "codemirror_mode": {
        "name": "ipython",
        "version": 3
      },
      "file_extension": ".py",
      "mimetype": "text/x-python",
      "name": "python",
      "nbconvert_exporter": "python",
      "pygments_lexer": "ipython3",
      "version": "3.10.11"
    },
    "colab": {
      "provenance": []
    }
  },
  "nbformat": 4,
  "nbformat_minor": 5
}